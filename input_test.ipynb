{
 "cells": [
  {
   "cell_type": "code",
   "execution_count": 1,
   "metadata": {},
   "outputs": [],
   "source": [
    "import os\n",
    "import time\n",
    "import argparse\n",
    "import math\n",
    "from numpy import finfo\n",
    "import IPython.display as ipd\n",
    "import torch"
   ]
  },
  {
   "cell_type": "code",
   "execution_count": 2,
   "metadata": {},
   "outputs": [],
   "source": [
    "\n",
    "from distributed import apply_gradient_allreduce\n",
    "import torch.distributed as dist\n",
    "from torch.utils.data.distributed import DistributedSampler\n",
    "from torch.utils.data import DataLoader\n",
    "\n",
    "from model import Tacotron2\n",
    "from data_utils import TextMelLoader, TextMelCollate\n",
    "from loss_function import Tacotron2Loss\n",
    "from logger import Tacotron2Logger\n",
    "from hparams import create_hparams"
   ]
  },
  {
   "cell_type": "code",
   "execution_count": 3,
   "metadata": {},
   "outputs": [
    {
     "name": "stdout",
     "output_type": "stream",
     "text": [
      "\n",
      "WARNING: The TensorFlow contrib module will not be included in TensorFlow 2.0.\n",
      "For more information, please see:\n",
      "  * https://github.com/tensorflow/community/blob/master/rfcs/20180907-contrib-sunset.md\n",
      "  * https://github.com/tensorflow/addons\n",
      "If you depend on functionality not listed there, please file an issue.\n",
      "\n"
     ]
    }
   ],
   "source": [
    "hparams = create_hparams()"
   ]
  },
  {
   "cell_type": "code",
   "execution_count": 11,
   "metadata": {},
   "outputs": [],
   "source": [
    "from text import text_to_sequence, cmudict, candict\n"
   ]
  },
  {
   "cell_type": "code",
   "execution_count": null,
   "metadata": {},
   "outputs": [],
   "source": [
    "text_to_sequence(\"wai4-juk1-sou3-sou3-hou2-hoi1-sam1-gam3-waa6\", hparams.text_cleaners, )"
   ]
  },
  {
   "cell_type": "code",
   "execution_count": null,
   "metadata": {},
   "outputs": [],
   "source": []
  },
  {
   "cell_type": "code",
   "execution_count": null,
   "metadata": {},
   "outputs": [],
   "source": []
  },
  {
   "cell_type": "code",
   "execution_count": null,
   "metadata": {},
   "outputs": [],
   "source": []
  },
  {
   "cell_type": "code",
   "execution_count": 4,
   "metadata": {},
   "outputs": [],
   "source": [
    "trainset = TextMelLoader(hparams.training_files, hparams)"
   ]
  },
  {
   "cell_type": "code",
   "execution_count": 7,
   "metadata": {},
   "outputs": [],
   "source": [
    "for each_set in trainset:\n",
    "    pass"
   ]
  },
  {
   "cell_type": "code",
   "execution_count": null,
   "metadata": {},
   "outputs": [],
   "source": [
    "batch = [trainset[1], trainset[0]]"
   ]
  },
  {
   "cell_type": "code",
   "execution_count": null,
   "metadata": {},
   "outputs": [],
   "source": [
    "input_lengths, ids_sorted_decreasing = torch.sort(\n",
    "            torch.LongTensor([len(x[0]) for x in batch]),\n",
    "            dim=0, descending=True)\n",
    "max_input_len = input_lengths[0]\n",
    "text_padded = torch.LongTensor(len(batch), max_input_len)\n",
    "text_padded.zero_()\n",
    "for i in range(len(ids_sorted_decreasing)):\n",
    "    text = batch[ids_sorted_decreasing[i]][0]\n",
    "    text_padded[i, :text.size(0)] = text\n",
    "\n",
    "# Right zero-pad mel-spec\n",
    "num_mels = batch[0][1].size(0)\n",
    "max_target_len = max([x[1].size(1) for x in batch])\n",
    "\n",
    "\n",
    "# include mel padded and gate padded\n",
    "mel_padded = torch.FloatTensor(len(batch), num_mels, max_target_len)\n",
    "mel_padded.zero_()\n",
    "gate_padded = torch.FloatTensor(len(batch), max_target_len)\n",
    "gate_padded.zero_()\n",
    "output_lengths = torch.LongTensor(len(batch))\n",
    "spk_ids = torch.LongTensor([batch[i][2] for i in range(len(ids_sorted_decreasing))])\n",
    "for i in range(len(ids_sorted_decreasing)):\n",
    "    mel = batch[ids_sorted_decreasing[i]][1]\n",
    "    mel_padded[i, :, :mel.size(1)] = mel\n",
    "    gate_padded[i, mel.size(1) - 1:] = 1\n",
    "    output_lengths[i] = mel.size(1)"
   ]
  },
  {
   "cell_type": "code",
   "execution_count": null,
   "metadata": {},
   "outputs": [],
   "source": [
    "text_padded"
   ]
  },
  {
   "cell_type": "code",
   "execution_count": null,
   "metadata": {},
   "outputs": [],
   "source": [
    "spk_ids"
   ]
  },
  {
   "cell_type": "code",
   "execution_count": null,
   "metadata": {},
   "outputs": [],
   "source": [
    "trainset[1]"
   ]
  },
  {
   "cell_type": "code",
   "execution_count": null,
   "metadata": {},
   "outputs": [],
   "source": [
    "trainset[0]"
   ]
  },
  {
   "cell_type": "code",
   "execution_count": null,
   "metadata": {},
   "outputs": [],
   "source": []
  }
 ],
 "metadata": {
  "kernelspec": {
   "display_name": "Python 3",
   "language": "python",
   "name": "python3"
  },
  "language_info": {
   "codemirror_mode": {
    "name": "ipython",
    "version": 3
   },
   "file_extension": ".py",
   "mimetype": "text/x-python",
   "name": "python",
   "nbconvert_exporter": "python",
   "pygments_lexer": "ipython3",
   "version": "3.6.9"
  }
 },
 "nbformat": 4,
 "nbformat_minor": 2
}
